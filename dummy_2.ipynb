{
 "cells": [
  {
   "cell_type": "markdown",
   "id": "9d1c7bab-ed1f-44a2-b1b5-735e0c97c3df",
   "metadata": {},
   "source": [
    "## Create a code for a dummy test\n",
    "Hello world, how is it going "
   ]
  },
  {
   "cell_type": "code",
   "execution_count": 2,
   "id": "1d5177cc-2b66-49aa-8a54-9bf3d2945750",
   "metadata": {},
   "outputs": [
    {
     "data": {
      "text/plain": [
       "45"
      ]
     },
     "execution_count": 2,
     "metadata": {},
     "output_type": "execute_result"
    }
   ],
   "source": [
    "22+23"
   ]
  },
  {
   "cell_type": "markdown",
   "id": "5716c8f9-363c-41e2-97a3-cafd3733e990",
   "metadata": {},
   "source": []
  }
 ],
 "metadata": {
  "kernelspec": {
   "display_name": "Python",
   "language": "python",
   "name": "conda-env-python-py"
  },
  "language_info": {
   "codemirror_mode": {
    "name": "ipython",
    "version": 3
   },
   "file_extension": ".py",
   "mimetype": "text/x-python",
   "name": "python",
   "nbconvert_exporter": "python",
   "pygments_lexer": "ipython3",
   "version": "3.6.13"
  }
 },
 "nbformat": 4,
 "nbformat_minor": 5
}
